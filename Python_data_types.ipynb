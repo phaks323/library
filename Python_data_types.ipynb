{
  "nbformat": 4,
  "nbformat_minor": 0,
  "metadata": {
    "colab": {
      "name": "Python_data_types.ipynb",
      "provenance": [],
      "include_colab_link": true
    },
    "kernelspec": {
      "name": "python3",
      "display_name": "Python 3"
    },
    "language_info": {
      "name": "python"
    }
  },
  "cells": [
    {
      "cell_type": "markdown",
      "metadata": {
        "id": "view-in-github",
        "colab_type": "text"
      },
      "source": [
        "<a href=\"https://colab.research.google.com/github/phaks323/library/blob/master/Python_data_types.ipynb\" target=\"_parent\"><img src=\"https://colab.research.google.com/assets/colab-badge.svg\" alt=\"Open In Colab\"/></a>"
      ]
    },
    {
      "cell_type": "markdown",
      "metadata": {
        "id": "vV9-vFE_cWtO"
      },
      "source": [
        " ### **Creating a dictionary** \n",
        "\n",
        " Dictionaries are key-value pairs\n",
        "\n",
        "\n",
        " </br>\n",
        " \n",
        " A dictionary is a collection which is ordered*, changeable and does not allow duplicates.\n",
        "\n",
        "\n",
        "</br>\n",
        "\n",
        "\n",
        " \n",
        " When we say that dictionaries are ordered, it means that the items have a defined order, and that order will not change.\n",
        "\n",
        "\n",
        "</br>\n",
        "\n",
        "Unordered means that the items does not have a defined order, you cannot refer to an item by using an index.\n",
        "\n",
        "</br>\n",
        "\n",
        "\n"
      ]
    },
    {
      "cell_type": "code",
      "metadata": {
        "id": "FfeZKiTLawhO"
      },
      "source": [
        "population = {'Gauteng': 3748148, 'Cape Town': 1822445, 'Durban': 1471508, 'East London': 1085664, 'Polokwane': 753056 }\n",
        "\n",
        "# dictionary containing a list of products' prices\n",
        "products = {'table': 120, 'chair': 40, 'lamp': 14, 'bed': 250, 'mattress': 100}\n",
        "\n",
        "# dictionary containing students grades \n",
        "grades = {'Masingita': 9.5, 'Hardy': 10, 'Sbusiso': 3.5, 'Obakeng': 6.5, 'Caiphus': 7.5}"
      ],
      "execution_count": null,
      "outputs": []
    },
    {
      "cell_type": "markdown",
      "metadata": {
        "id": "18QhbII6iu5j"
      },
      "source": [
        "."
      ]
    },
    {
      "cell_type": "markdown",
      "metadata": {
        "id": "KbxGVgBJf29q"
      },
      "source": [
        "."
      ]
    },
    {
      "cell_type": "markdown",
      "metadata": {
        "id": "k06bLDKwcqPp"
      },
      "source": [
        "### Printing out dictionaries"
      ]
    },
    {
      "cell_type": "code",
      "metadata": {
        "colab": {
          "base_uri": "https://localhost:8080/"
        },
        "id": "SoFysHKqbQA7",
        "outputId": "8842b478-88cc-4fbf-eddd-2561bab499dc"
      },
      "source": [
        "print(population)"
      ],
      "execution_count": null,
      "outputs": [
        {
          "output_type": "stream",
          "name": "stdout",
          "text": [
            "{'Gauteng': 3748148, 'Cape Town': 1822445, 'Durban': 1471508, 'East London': 1085664, 'Polokwane': 753056}\n"
          ]
        }
      ]
    },
    {
      "cell_type": "code",
      "metadata": {
        "colab": {
          "base_uri": "https://localhost:8080/"
        },
        "id": "4Lq7l6c6bUW2",
        "outputId": "7f6eda6d-640e-4b08-e615-95e2ca12d522"
      },
      "source": [
        "print(products)"
      ],
      "execution_count": null,
      "outputs": [
        {
          "output_type": "stream",
          "name": "stdout",
          "text": [
            "{'table': 120, 'chair': 40, 'lamp': 14, 'bed': 250, 'mattress': 100}\n"
          ]
        }
      ]
    },
    {
      "cell_type": "code",
      "metadata": {
        "colab": {
          "base_uri": "https://localhost:8080/"
        },
        "id": "RO-dzOIVbUf0",
        "outputId": "f1c5b23a-2390-496e-ce52-184d23fcddb7"
      },
      "source": [
        "print(grades)"
      ],
      "execution_count": null,
      "outputs": [
        {
          "output_type": "stream",
          "name": "stdout",
          "text": [
            "{'Masingita': 9.5, 'Hardy': 10, 'Sbusiso': 3.5, 'Obakeng': 6.5, 'Caiphus': 7.5}\n"
          ]
        }
      ]
    },
    {
      "cell_type": "markdown",
      "metadata": {
        "id": "Tlz9Gd2jfsYg"
      },
      "source": [
        "."
      ]
    },
    {
      "cell_type": "markdown",
      "metadata": {
        "id": "AgxkjUTJfsdb"
      },
      "source": [
        "."
      ]
    },
    {
      "cell_type": "markdown",
      "metadata": {
        "id": "-oWPwAdteOjb"
      },
      "source": [
        "### Create dictionaries using **dict() function**"
      ]
    },
    {
      "cell_type": "code",
      "metadata": {
        "id": "i4FToMyteYFd"
      },
      "source": [
        "students_ages = dict(Sbusiso=27, Happy=38, Sipho=17, Fikile=40)"
      ],
      "execution_count": null,
      "outputs": []
    },
    {
      "cell_type": "code",
      "metadata": {
        "colab": {
          "base_uri": "https://localhost:8080/"
        },
        "id": "8yO-MMQLedHX",
        "outputId": "5b0da5a5-d48d-4e63-e1ce-6acfc45c0652"
      },
      "source": [
        "print(students_ages)"
      ],
      "execution_count": null,
      "outputs": [
        {
          "output_type": "stream",
          "name": "stdout",
          "text": [
            "{'Sbusiso': 27, 'Happy': 38, 'Sipho': 17, 'Fikile': 40}\n"
          ]
        }
      ]
    },
    {
      "cell_type": "markdown",
      "metadata": {
        "id": "IRDTWmFfislp"
      },
      "source": [
        "."
      ]
    },
    {
      "cell_type": "markdown",
      "metadata": {
        "id": "kpdRDTtmitYM"
      },
      "source": [
        "."
      ]
    },
    {
      "cell_type": "markdown",
      "metadata": {
        "id": "GdAcpDnyfSFA"
      },
      "source": [
        "### Creating dictionaries using lists of tuples"
      ]
    },
    {
      "cell_type": "code",
      "metadata": {
        "id": "E0VIjBZBfc-k"
      },
      "source": [
        "students_ages = dict([('Sbusiso', 27), ('Happy', 38), ('Sipho', 17), ('Fikile', 40)])"
      ],
      "execution_count": null,
      "outputs": []
    },
    {
      "cell_type": "code",
      "metadata": {
        "colab": {
          "base_uri": "https://localhost:8080/"
        },
        "id": "kHvijhvYi4Is",
        "outputId": "a37f3135-cd39-4bfb-d2d7-d32547e62aef"
      },
      "source": [
        "students_ages"
      ],
      "execution_count": null,
      "outputs": [
        {
          "output_type": "execute_result",
          "data": {
            "text/plain": [
              "{'Fikile': 40, 'Happy': 38, 'Sbusiso': 27, 'Sipho': 17}"
            ]
          },
          "metadata": {},
          "execution_count": 16
        }
      ]
    },
    {
      "cell_type": "markdown",
      "metadata": {
        "id": "hN-jTJMDjERX"
      },
      "source": [
        "."
      ]
    },
    {
      "cell_type": "markdown",
      "metadata": {
        "id": "b1uAyb6kjFJp"
      },
      "source": [
        "."
      ]
    },
    {
      "cell_type": "markdown",
      "metadata": {
        "id": "7JLsf-5HjrW-"
      },
      "source": [
        "### Creating dictionaries using 2 lists"
      ]
    },
    {
      "cell_type": "code",
      "metadata": {
        "id": "1kXVskCwjjGx"
      },
      "source": [
        "students = ['Jabu', 'Philip', 'Grace', 'Themba']\n",
        "ages = [27, 38, 17, 40]\n",
        "\n",
        "students_ages = dict(zip(students, ages))"
      ],
      "execution_count": null,
      "outputs": []
    },
    {
      "cell_type": "code",
      "metadata": {
        "colab": {
          "base_uri": "https://localhost:8080/"
        },
        "id": "2X5Thk4Tj8Li",
        "outputId": "93fcf46f-7643-461a-a82a-cde15de93c52"
      },
      "source": [
        "print(students_ages)"
      ],
      "execution_count": null,
      "outputs": [
        {
          "output_type": "stream",
          "name": "stdout",
          "text": [
            "{'Jabu': 27, 'Philip': 38, 'Grace': 17, 'Themba': 40}\n"
          ]
        }
      ]
    },
    {
      "cell_type": "markdown",
      "metadata": {
        "id": "rRL49syzkwJV"
      },
      "source": [
        "."
      ]
    },
    {
      "cell_type": "markdown",
      "metadata": {
        "id": "OpiTww4ckwMR"
      },
      "source": [
        "."
      ]
    },
    {
      "cell_type": "markdown",
      "metadata": {
        "id": "7FXzzqH2plWN"
      },
      "source": [
        "### Access values in a dictionary\n",
        "\n",
        "\n",
        "### The below method of accessing values in a dictionary has limitations in that it returns an error if the value you are trying to access it is not available."
      ]
    },
    {
      "cell_type": "code",
      "metadata": {
        "colab": {
          "base_uri": "https://localhost:8080/"
        },
        "id": "NS1tdSmVk1db",
        "outputId": "05e0b855-344d-4a2e-ab24-74b5b7fc1bc7"
      },
      "source": [
        "population['Gauteng']"
      ],
      "execution_count": null,
      "outputs": [
        {
          "output_type": "execute_result",
          "data": {
            "text/plain": [
              "3748148"
            ]
          },
          "metadata": {},
          "execution_count": 38
        }
      ]
    },
    {
      "cell_type": "markdown",
      "metadata": {
        "id": "Ttz-pG0etbaP"
      },
      "source": [
        "."
      ]
    },
    {
      "cell_type": "markdown",
      "metadata": {
        "id": "w17oO2msp7Bg"
      },
      "source": [
        "### The next method of accessing the dictionary returns an empty value if accessing a value that is not available"
      ]
    },
    {
      "cell_type": "code",
      "metadata": {
        "id": "s8-UeLOylMlR"
      },
      "source": [
        "population.get('Hermanus')"
      ],
      "execution_count": null,
      "outputs": []
    },
    {
      "cell_type": "markdown",
      "metadata": {
        "id": "usyfosKundSl"
      },
      "source": [
        "."
      ]
    },
    {
      "cell_type": "markdown",
      "metadata": {
        "id": "GAzuAfnIndiL"
      },
      "source": [
        "### Insert elements in a dictionary\n"
      ]
    },
    {
      "cell_type": "code",
      "metadata": {
        "id": "NjkvWnQ3nfW-"
      },
      "source": [
        "students_ages['Melisha'] = 35"
      ],
      "execution_count": null,
      "outputs": []
    },
    {
      "cell_type": "code",
      "metadata": {
        "colab": {
          "base_uri": "https://localhost:8080/"
        },
        "id": "iEnnrZwSnp4D",
        "outputId": "e07ac3ae-7891-449b-a695-6cfa55fae373"
      },
      "source": [
        "students_ages"
      ],
      "execution_count": null,
      "outputs": [
        {
          "output_type": "execute_result",
          "data": {
            "text/plain": [
              "{'Grace': 17, 'Jabu': 27, 'Melisha': 35, 'Philip': 38, 'Themba': 40}"
            ]
          },
          "metadata": {},
          "execution_count": 40
        }
      ]
    },
    {
      "cell_type": "markdown",
      "metadata": {
        "id": "UOn_BhSrtYfY"
      },
      "source": [
        "."
      ]
    },
    {
      "cell_type": "markdown",
      "metadata": {
        "id": "nH7VCqbHtJ00"
      },
      "source": [
        "### Updating the dictionaries"
      ]
    },
    {
      "cell_type": "code",
      "metadata": {
        "id": "TUjpE4r5s6KQ"
      },
      "source": [
        "students_ages.update({'Jabu': 30, 'Grace': 19})"
      ],
      "execution_count": null,
      "outputs": []
    },
    {
      "cell_type": "code",
      "metadata": {
        "colab": {
          "base_uri": "https://localhost:8080/"
        },
        "id": "Lt8vrMtUte6g",
        "outputId": "c35576ba-a015-4995-c7bc-b4c8c897e0fd"
      },
      "source": [
        "students_ages"
      ],
      "execution_count": null,
      "outputs": [
        {
          "output_type": "execute_result",
          "data": {
            "text/plain": [
              "{'Grace': 19, 'Jabu': 30, 'Melisha': 35, 'Philip': 38, 'Themba': 40}"
            ]
          },
          "metadata": {},
          "execution_count": 42
        }
      ]
    },
    {
      "cell_type": "markdown",
      "metadata": {
        "id": "yJQU5BoytoKt"
      },
      "source": [
        "."
      ]
    },
    {
      "cell_type": "code",
      "metadata": {
        "id": "8rwvv1xoto5w"
      },
      "source": [
        "students_ages.update(Jabu=26, Marco=24, Paola=21)"
      ],
      "execution_count": null,
      "outputs": []
    },
    {
      "cell_type": "code",
      "metadata": {
        "colab": {
          "base_uri": "https://localhost:8080/"
        },
        "id": "-AizdmOatp5X",
        "outputId": "ddaf6367-2217-430c-f007-2c9e0d8df56b"
      },
      "source": [
        "students_ages"
      ],
      "execution_count": null,
      "outputs": [
        {
          "output_type": "execute_result",
          "data": {
            "text/plain": [
              "{'Grace': 19,\n",
              " 'Jabu': 26,\n",
              " 'Marco': 24,\n",
              " 'Melisha': 35,\n",
              " 'Philip': 38,\n",
              " 'Themba': 400}"
            ]
          },
          "metadata": {},
          "execution_count": 71
        }
      ]
    },
    {
      "cell_type": "markdown",
      "metadata": {
        "id": "8PcteXFUtywi"
      },
      "source": [
        "."
      ]
    },
    {
      "cell_type": "code",
      "metadata": {
        "id": "XbAz64UCt0So"
      },
      "source": [
        "students_ages['Themba'] = 400"
      ],
      "execution_count": null,
      "outputs": []
    },
    {
      "cell_type": "code",
      "metadata": {
        "id": "fY2GCi88uUQ7"
      },
      "source": [
        ""
      ],
      "execution_count": null,
      "outputs": []
    },
    {
      "cell_type": "markdown",
      "metadata": {
        "id": "1WR3zUUsuVEz"
      },
      "source": [
        "."
      ]
    },
    {
      "cell_type": "markdown",
      "metadata": {
        "id": "AOQlEC52uWNe"
      },
      "source": [
        "."
      ]
    },
    {
      "cell_type": "markdown",
      "metadata": {
        "id": "AkxBoFfmyHmL"
      },
      "source": [
        "### Deleting values from dictionary\n",
        "\n",
        "\n",
        "### The below method of deleting values in a dictionary has limitations in that it returns an error if the value you are trying to delete it is not available."
      ]
    },
    {
      "cell_type": "code",
      "metadata": {
        "id": "oKgbxCZPuYtt"
      },
      "source": [
        "del students_ages['Themba']"
      ],
      "execution_count": null,
      "outputs": []
    },
    {
      "cell_type": "code",
      "metadata": {
        "colab": {
          "base_uri": "https://localhost:8080/"
        },
        "id": "XgbDT_X3wJ4Z",
        "outputId": "03060a7b-a357-48bb-fa4b-82bbcf49c264"
      },
      "source": [
        "students_ages"
      ],
      "execution_count": null,
      "outputs": [
        {
          "output_type": "execute_result",
          "data": {
            "text/plain": [
              "{'Grace': 19, 'Jabu': 26, 'Marco': 24, 'Melisha': 35, 'Philip': 38}"
            ]
          },
          "metadata": {},
          "execution_count": 73
        }
      ]
    },
    {
      "cell_type": "markdown",
      "metadata": {
        "id": "2AfInaKpwU3F"
      },
      "source": [
        "### The next method of deleting the dictionary returns an empty value if deleting a value that is not available"
      ]
    },
    {
      "cell_type": "markdown",
      "metadata": {
        "id": "CDQRJyQNwU9M"
      },
      "source": [
        "."
      ]
    },
    {
      "cell_type": "code",
      "metadata": {
        "colab": {
          "base_uri": "https://localhost:8080/"
        },
        "id": "iQssQhDHwXsK",
        "outputId": "6756e339-c972-404d-d3c3-35204af50c46"
      },
      "source": [
        "students_ages.pop('Paola', \"Not Available\")"
      ],
      "execution_count": null,
      "outputs": [
        {
          "output_type": "execute_result",
          "data": {
            "text/plain": [
              "21"
            ]
          },
          "metadata": {},
          "execution_count": 63
        }
      ]
    },
    {
      "cell_type": "markdown",
      "metadata": {
        "id": "eMF30GbSzh4l"
      },
      "source": [
        "."
      ]
    },
    {
      "cell_type": "markdown",
      "metadata": {
        "id": "XICfV5Fbzh73"
      },
      "source": [
        "### Check if a key exists"
      ]
    },
    {
      "cell_type": "code",
      "metadata": {
        "colab": {
          "base_uri": "https://localhost:8080/"
        },
        "id": "DwN7_rzB0FEG",
        "outputId": "6a823fd5-b395-4d51-b558-6fa907f08d28"
      },
      "source": [
        "# check if the key 'Guteng' exists in the dictionary population\n",
        "\n",
        "'Gauteng' in population\n"
      ],
      "execution_count": null,
      "outputs": [
        {
          "output_type": "execute_result",
          "data": {
            "text/plain": [
              "True"
            ]
          },
          "metadata": {},
          "execution_count": 69
        }
      ]
    },
    {
      "cell_type": "code",
      "metadata": {
        "colab": {
          "base_uri": "https://localhost:8080/"
        },
        "id": "x7Dx-ZDo0UlB",
        "outputId": "32a25089-9ffa-49a1-c27c-3b3e5276c8a0"
      },
      "source": [
        "# check if the key 'Gauteng' does not exist in the dictionary population\n",
        "'Gauteng' not in population"
      ],
      "execution_count": null,
      "outputs": [
        {
          "output_type": "execute_result",
          "data": {
            "text/plain": [
              "False"
            ]
          },
          "metadata": {},
          "execution_count": 68
        }
      ]
    },
    {
      "cell_type": "markdown",
      "metadata": {
        "id": "joM8i0Mw2JzW"
      },
      "source": [
        "."
      ]
    },
    {
      "cell_type": "markdown",
      "metadata": {
        "id": "ngy-74yD2J38"
      },
      "source": [
        ""
      ]
    },
    {
      "cell_type": "markdown",
      "metadata": {
        "id": "dZz2ceAz3bdn"
      },
      "source": [
        "### Copy a dictionary\n"
      ]
    },
    {
      "cell_type": "code",
      "metadata": {
        "id": "vuHyXN_F3j_Y"
      },
      "source": [
        "students_2 = students.copy()\n"
      ],
      "execution_count": null,
      "outputs": []
    },
    {
      "cell_type": "code",
      "metadata": {
        "colab": {
          "base_uri": "https://localhost:8080/"
        },
        "id": "HPFOqLxe3s_R",
        "outputId": "e0fb1568-1495-4e5d-bc25-08f7106ca5b0"
      },
      "source": [
        "students"
      ],
      "execution_count": null,
      "outputs": [
        {
          "output_type": "execute_result",
          "data": {
            "text/plain": [
              "['Jabu', 'Philip', 'Grace', 'Themba']"
            ]
          },
          "metadata": {},
          "execution_count": 75
        }
      ]
    },
    {
      "cell_type": "markdown",
      "metadata": {
        "id": "hQUlelGN6UVi"
      },
      "source": [
        "."
      ]
    },
    {
      "cell_type": "markdown",
      "metadata": {
        "id": "oCCqIzRl6VIQ"
      },
      "source": [
        "."
      ]
    },
    {
      "cell_type": "markdown",
      "metadata": {
        "id": "RQittTvm5XnS"
      },
      "source": [
        "### Copy using **= operator**"
      ]
    },
    {
      "cell_type": "code",
      "metadata": {
        "id": "GjuvJgeD5cYv"
      },
      "source": [
        "students_copy = students"
      ],
      "execution_count": null,
      "outputs": []
    },
    {
      "cell_type": "code",
      "metadata": {
        "id": "_iSWCi7B5wmh"
      },
      "source": [
        "students"
      ],
      "execution_count": null,
      "outputs": []
    },
    {
      "cell_type": "markdown",
      "metadata": {
        "id": "eGpvrL7F6XOA"
      },
      "source": [
        "."
      ]
    },
    {
      "cell_type": "markdown",
      "metadata": {
        "id": "jbnTtCAa6Xwe"
      },
      "source": [
        "."
      ]
    },
    {
      "cell_type": "markdown",
      "metadata": {
        "id": "-xRuMa-h50FT"
      },
      "source": [
        "### Find the length of a **dictionary**"
      ]
    },
    {
      "cell_type": "code",
      "metadata": {
        "colab": {
          "base_uri": "https://localhost:8080/"
        },
        "id": "Gftw7Z6a6KL5",
        "outputId": "bafa42d0-38fb-48a8-dfd3-44cd4051ad4d"
      },
      "source": [
        "len(population)"
      ],
      "execution_count": null,
      "outputs": [
        {
          "output_type": "execute_result",
          "data": {
            "text/plain": [
              "5"
            ]
          },
          "metadata": {},
          "execution_count": 76
        }
      ]
    },
    {
      "cell_type": "markdown",
      "metadata": {
        "id": "mWiMx4p77Vxo"
      },
      "source": [
        "."
      ]
    },
    {
      "cell_type": "markdown",
      "metadata": {
        "id": "WUsx2qaQ7Xyh"
      },
      "source": [
        "### Looping through a **dictionary**\n",
        "Iterating through keys\n",
        "\n"
      ]
    },
    {
      "cell_type": "code",
      "metadata": {
        "colab": {
          "base_uri": "https://localhost:8080/"
        },
        "id": "-RllpesV7dLl",
        "outputId": "af3c1c42-15e8-421f-f6f7-e25d421b85dc"
      },
      "source": [
        "for city in population:\n",
        "    print(city)"
      ],
      "execution_count": null,
      "outputs": [
        {
          "output_type": "stream",
          "name": "stdout",
          "text": [
            "Gauteng\n",
            "Cape Town\n",
            "Durban\n",
            "East London\n",
            "Polokwane\n"
          ]
        }
      ]
    },
    {
      "cell_type": "markdown",
      "metadata": {
        "id": "DepBpUiF6ZGl"
      },
      "source": [
        " ### Using keys()"
      ]
    },
    {
      "cell_type": "code",
      "metadata": {
        "colab": {
          "base_uri": "https://localhost:8080/"
        },
        "id": "1zD682Gn-3Fp",
        "outputId": "8d45418e-a252-40fa-9921-eb9f5e44e509"
      },
      "source": [
        "for city in population.keys():\n",
        "    print(city)"
      ],
      "execution_count": null,
      "outputs": [
        {
          "output_type": "stream",
          "name": "stdout",
          "text": [
            "Gauteng\n",
            "Cape Town\n",
            "Durban\n",
            "East London\n",
            "Polokwane\n"
          ]
        }
      ]
    },
    {
      "cell_type": "markdown",
      "metadata": {
        "id": "KygV1JgY6SFb"
      },
      "source": [
        "."
      ]
    },
    {
      "cell_type": "markdown",
      "metadata": {
        "id": "qd0e1zGt_Quc"
      },
      "source": [
        "### Looping through a **dictionary**\n",
        "Iterating through values"
      ]
    },
    {
      "cell_type": "code",
      "metadata": {
        "colab": {
          "base_uri": "https://localhost:8080/"
        },
        "id": "9jNH8cnL_R1R",
        "outputId": "5d24c1d9-b0a5-45e7-e0a8-f4148672e74e"
      },
      "source": [
        "for number in population.values():\n",
        "    print(number)"
      ],
      "execution_count": null,
      "outputs": [
        {
          "output_type": "stream",
          "name": "stdout",
          "text": [
            "3748148\n",
            "1822445\n",
            "1471508\n",
            "1085664\n",
            "753056\n"
          ]
        }
      ]
    },
    {
      "cell_type": "markdown",
      "metadata": {
        "id": "zhYD5Q5k_0sb"
      },
      "source": [
        "."
      ]
    },
    {
      "cell_type": "markdown",
      "metadata": {
        "id": "Od4lgmZV_2F6"
      },
      "source": [
        "### Looping through a **dictionary**\n",
        "Iterating through items\n"
      ]
    },
    {
      "cell_type": "code",
      "metadata": {
        "id": "q6c8rdR8_7GB"
      },
      "source": [
        "for student, grade in grades.items():"
      ],
      "execution_count": null,
      "outputs": []
    },
    {
      "cell_type": "markdown",
      "metadata": {
        "id": "xEIGMcSoAUqG"
      },
      "source": [
        "."
      ]
    },
    {
      "cell_type": "markdown",
      "metadata": {
        "id": "vJ4Do0MXAUuq"
      },
      "source": [
        "### Nested dictionary with dict() constructor"
      ]
    },
    {
      "cell_type": "code",
      "metadata": {
        "id": "vwjTq9tyAenx"
      },
      "source": [
        "works_of_art = dict(Group_1={'Group_Leader': 'Masingita Maluleke', 'Age': 17, 'Position': 'Jr Data Scienctist'},\n",
        "                    Group_2={'Group_Leader': 'Sbusiso Phakathi', 'Age': 20, 'Position': 'Jr Data Scientist'},\n",
        "                    Group_3={'Group_Leader': 'Caiphus Kai', 'Age': 21, 'Position': 'Jr Data Scientist'},\n",
        "                    Group_4={'Group_Leader': 'Obakeng Obs', 'Age': 23, 'Position': 'Jr Data Scientist'},\n",
        "                    Group_5={'Group_Leader': 'Dylan Knevitt', 'Age': 16, 'Position': 'Jr Data Scientist'})"
      ],
      "execution_count": null,
      "outputs": []
    },
    {
      "cell_type": "code",
      "metadata": {
        "colab": {
          "base_uri": "https://localhost:8080/"
        },
        "id": "5dG8dctKAhYM",
        "outputId": "b3ba873f-e472-4f23-8ac9-f467cafd3330"
      },
      "source": [
        "works_of_art"
      ],
      "execution_count": null,
      "outputs": [
        {
          "output_type": "execute_result",
          "data": {
            "text/plain": [
              "{'Group_1': {'Age': 17,\n",
              "  'Group_Leader': 'Masingita Maluleke',\n",
              "  'Position': 'Jr Data Scienctist'},\n",
              " 'Group_2': {'Age': 20,\n",
              "  'Group_Leader': 'Sbusiso Phakathi',\n",
              "  'Position': 'Jr Data Scientist'},\n",
              " 'Group_3': {'Age': 21,\n",
              "  'Group_Leader': 'Caiphus Kai',\n",
              "  'Position': 'Jr Data Scientist'},\n",
              " 'Group_4': {'Age': 23,\n",
              "  'Group_Leader': 'Obakeng Obs',\n",
              "  'Position': 'Jr Data Scientist'},\n",
              " 'Group_5': {'Age': 16,\n",
              "  'Group_Leader': 'Dylan Knevitt',\n",
              "  'Position': 'Jr Data Scientist'}}"
            ]
          },
          "metadata": {},
          "execution_count": 87
        }
      ]
    }
  ]
}